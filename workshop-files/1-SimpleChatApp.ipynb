{
 "cells": [
  {
   "cell_type": "markdown",
   "metadata": {},
   "source": [
    "## 1. Running a Simple Chat Application\n",
    "Welcome to *AI-Enabling Your Applications with InterSystems IRIS!* Throughout this workshop, you will use InterSystems IRIS and several different Python libraries to create a generative AI application that utilizes two different sets of healthcare data."
   ]
  },
  {
   "cell_type": "markdown",
   "metadata": {},
   "source": [
    "### Launch the Pass-Through Chat App\n",
    "Throughout this workshop, you will run modules of code within these notebook files. You can run these modules by pressing the small play button on each module, or you can press *Shift+Enter* to run a given module of code.\n",
    "\n",
    "In the first section, you are running a chat application that serves **only as a passthrough to an LLM.** This means that your queries are passed directly to the LLM being used by the app, and it is not aware of any specific data other than whatever the model was trained on.\n",
    "\n",
    "Run the two modules below to launch a simple pass-through chat application, which is based on the Python file `Chat1-Passthrough.py`. If you see any deprecation warnings, you can ignore them."
   ]
  },
  {
   "cell_type": "code",
   "execution_count": null,
   "metadata": {},
   "outputs": [],
   "source": [
    "import os\n",
    "\n",
    "os.environ['STREAMLIT_GENERAL_EMAIL'] = \"\"\n",
    "os.environ['STREAMLIT_THEME_PRIMARYCOLOR'] = \"#5863ff\"\n"
   ]
  },
  {
   "cell_type": "code",
   "execution_count": null,
   "metadata": {
    "vscode": {
     "languageId": "shellscript"
    }
   },
   "outputs": [],
   "source": [
    "%%bash\n",
    "streamlit run 'Chat1-Passthrough.py' --server.port 8080"
   ]
  },
  {
   "cell_type": "markdown",
   "metadata": {},
   "source": [
    "Switch to the \"Application\" tab in your lab environment to access the running Streamlit app."
   ]
  }
 ],
 "metadata": {
  "kernelspec": {
   "display_name": "Python 3",
   "language": "python",
   "name": "python3"
  },
  "language_info": {
   "codemirror_mode": {
    "name": "ipython",
    "version": 3
   },
   "file_extension": ".py",
   "mimetype": "text/x-python",
   "name": "python",
   "nbconvert_exporter": "python",
   "pygments_lexer": "ipython3",
   "version": "3.12.2"
  }
 },
 "nbformat": 4,
 "nbformat_minor": 2
}
