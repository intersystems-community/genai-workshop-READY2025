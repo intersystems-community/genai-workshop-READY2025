{
 "cells": [
  {
   "cell_type": "markdown",
   "metadata": {},
   "source": [
    "## 1. Running a Simple Chat Application\n",
    "Welcome to *AI-Enabling Your Applications with InterSystems IRIS!* Throughout this workshop, you will use InterSystems IRIS and several different Python libraries to create a generative AI application that utilizes two different sets of healthcare data.\n",
    "\n",
    "For the first half of this exercise, you will use a data set that includes generated free text case reports for patients. This data set is fully semantic, lacking any additional fields with codified values.\n",
    "\n",
    "Then, you will shift to a set of data detailing patient encounters. This second data set has more fields, some of which are not free text. You will explore how codified data can be combined with semantic data to retrieve the most accurate results."
   ]
  },
  {
   "cell_type": "markdown",
   "metadata": {},
   "source": [
    "### Launch the Pass-Through Chat App\n",
    "Throughout this workshop, you will run modules of code within these notebook files. You can run these modules by pressing the small play button on each module, or you can press *Shift+Enter* to run a given module of code.\n",
    "\n",
    "Run the two modules below to launch a simple pass-through chat application, which is based on the Python file `Chat1-Passthrough.py`."
   ]
  },
  {
   "cell_type": "code",
   "execution_count": null,
   "metadata": {},
   "outputs": [],
   "source": [
    "import os\n",
    "\n",
    "os.environ['STREAMLIT_GENERAL_EMAIL'] = \"\"\n",
    "os.environ['STREAMLIT_THEME_PRIMARYCOLOR'] = \"#5863ff\"\n"
   ]
  },
  {
   "cell_type": "code",
   "execution_count": null,
   "metadata": {
    "vscode": {
     "languageId": "shellscript"
    }
   },
   "outputs": [],
   "source": [
    "%%bash\n",
    "# If you're using a container, mac, or linux machine --- run this cell\n",
    "streamlit run 'Chat1-Passthrough.py' --server.port 8080"
   ]
  },
  {
   "cell_type": "markdown",
   "metadata": {},
   "source": [
    "Switch to the \"Application\" tab in your lab environment to access the running Streamlit app."
   ]
  }
 ],
 "metadata": {
  "kernelspec": {
   "display_name": "Python 3",
   "language": "python",
   "name": "python3"
  },
  "language_info": {
   "codemirror_mode": {
    "name": "ipython",
    "version": 3
   },
   "file_extension": ".py",
   "mimetype": "text/x-python",
   "name": "python",
   "nbconvert_exporter": "python",
   "pygments_lexer": "ipython3",
   "version": "3.12.2"
  }
 },
 "nbformat": 4,
 "nbformat_minor": 2
}
