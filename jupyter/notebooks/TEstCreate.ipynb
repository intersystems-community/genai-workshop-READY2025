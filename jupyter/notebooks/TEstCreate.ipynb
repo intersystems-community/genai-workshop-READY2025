{
 "cells": [
  {
   "cell_type": "code",
   "execution_count": null,
   "id": "ad6290a9-bc73-4520-8924-21a3bd8c6285",
   "metadata": {},
   "outputs": [],
   "source": []
  }
 ],
 "metadata": {
  "kernelspec": {
   "display_name": "Python 3 (ipykernel)",
   "language": "python",
   "name": "python3"
  },
  "language_info": {
   "codemirror_mode": {
    "name": "ipython",
    "version": 3
   },
   "file_extension": ".py",
   "mimetype": "text/x-python",
   "name": "python",
   "nbconvert_exporter": "python",
   "pygments_lexer": "ipython3",
   "version": "3.12.10"
  }
 },
 "nbformat": 4,
 "nbformat_minor": 5
}
