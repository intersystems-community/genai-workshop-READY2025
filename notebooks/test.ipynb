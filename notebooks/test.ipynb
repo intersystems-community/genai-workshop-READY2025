{
 "cells": [
  {
   "cell_type": "code",
   "execution_count": null,
   "id": "a61b3255",
   "metadata": {},
   "outputs": [],
   "source": [
    "import pandas as pd\n",
    "\n",
    "path = '/Users/psulin/repos/genai-workshop-READY2025/data/1000_patients_encounters/patient_encounters.csv'\n",
    "df = pd.read_csv(path)\n",
    "\n",
    "encounter_with_meds = df[(df['DESCRIPTION_MEDICATIONS'].isnull() == False) & (df['DESCRIPTION_PROCEDURES'].isnull() == False)]\n",
    "\n",
    "print(len(encounter_with_meds), len(df))\n",
    "\n",
    "df['DESCRIPTION_MEDICATIONS'].info()\n",
    "encounter_with_meds[['DESCRIPTION_MEDICATIONS', 'DESCRIPTION_PROCEDURES', 'DESCRIPTION_CONDITIONS', 'DESCRIPTION_OBSERVATIONS']].head(50)\n",
    "print(len(encounter_with_meds['PATIENT_ID'].unique()))"
   ]
  },
  {
   "cell_type": "code",
   "execution_count": null,
   "id": "b9a5ee8d",
   "metadata": {},
   "outputs": [],
   "source": [
    "import pandas as pd \n",
    "path = '/Users/psulin/repos/genai-workshop-READY2025/data/1000_patients_encounters/patient_encounters1.csv'\n",
    "df = pd.read_csv(path)\n",
    "\n",
    "#encounter_with_meds = df[(df['DESCRIPTION_MEDICATIONS'].isnull() == False) & (df['DESCRIPTION_PROCEDURES'].isnull() == False)]\n",
    "\n",
    "encounter_with_meds = df[df[['DESCRIPTION_MEDICATIONS', 'DESCRIPTION_PROCEDURES']].notna().all(axis=1)]\n",
    "\n",
    "fields = ['ENCOUNTER_ID', 'PATIENT_ID', 'PATIENT_AGE', 'DESCRIPTION_MEDICATIONS', 'DESCRIPTION_PROCEDURES', 'DESCRIPTION_CONDITIONS', 'TOTAL_CLAIM_COST' ]\n",
    "\n",
    "core_df = encounter_with_meds[fields]\n",
    "patients = core_df['PATIENT_ID'].unique() #['DESCRIPTION_MEDICATIONS'].value_counts()\n",
    "counter = 0\n",
    "for p in patients:\n",
    "    mask = core_df['PATIENT_ID'] == p\n",
    "    patient_x = core_df[mask][:10]\n",
    "    patient_string = patient_x.to_csv(index=False)\n",
    "    #print(patient_x[['PATIENT_ID','ENCOUNTER_ID']])\n",
    "    print(patient_string)\n",
    "    counter += 1\n",
    "    if counter > 10: break\n",
    "    \n",
    "\n"
   ]
  },
  {
   "cell_type": "code",
   "execution_count": 26,
   "id": "fab69b48",
   "metadata": {},
   "outputs": [],
   "source": [
    "import pandas as pd \n",
    "path_notes = \"/Users/psulin/repos/genai-workshop-READY2025/data/encounters/all_encounters_filtered.csv\"\n",
    "df_notes = pd.read_csv(path_notes, index_col='ENCOUNTER_ID', sep=',')\n"
   ]
  },
  {
   "cell_type": "code",
   "execution_count": 59,
   "id": "88eee29b",
   "metadata": {},
   "outputs": [
    {
     "name": "stdout",
     "output_type": "stream",
     "text": [
      "<class 'pandas.core.frame.DataFrame'>\n",
      "RangeIndex: 1746 entries, 0 to 1745\n",
      "Data columns (total 3 columns):\n",
      " #   Column          Non-Null Count  Dtype \n",
      "---  ------          --------------  ----- \n",
      " 0   PATIENT_ID      1746 non-null   int64 \n",
      " 1   ENCOUNTER_ID    1746 non-null   int64 \n",
      " 2   CLINICAL_NOTES  1738 non-null   object\n",
      "dtypes: int64(2), object(1)\n",
      "memory usage: 41.1+ KB\n",
      "<class 'pandas.core.frame.DataFrame'>\n",
      "RangeIndex: 9223 entries, 0 to 9222\n",
      "Data columns (total 3 columns):\n",
      " #   Column          Non-Null Count  Dtype \n",
      "---  ------          --------------  ----- \n",
      " 0   PATIENT_ID      9223 non-null   int64 \n",
      " 1   ENCOUNTER_ID    9223 non-null   object\n",
      " 2   CLINICAL_NOTES  9223 non-null   object\n",
      "dtypes: int64(1), object(2)\n",
      "memory usage: 216.3+ KB\n"
     ]
    },
    {
     "ename": "KeyError",
     "evalue": "\"['PATIENT_ID'] not in index\"",
     "output_type": "error",
     "traceback": [
      "\u001b[31m---------------------------------------------------------------------------\u001b[39m",
      "\u001b[31mKeyError\u001b[39m                                  Traceback (most recent call last)",
      "\u001b[36mCell\u001b[39m\u001b[36m \u001b[39m\u001b[32mIn[59]\u001b[39m\u001b[32m, line 21\u001b[39m\n\u001b[32m     18\u001b[39m df_notes_concat = pd.concat([df_notes, df_notes2])\n\u001b[32m     20\u001b[39m fulldf = pd.merge(df_notes_concat, full_encounter, left_on=\u001b[33m'\u001b[39m\u001b[33mENCOUNTER_ID\u001b[39m\u001b[33m'\u001b[39m, right_on=\u001b[33m'\u001b[39m\u001b[33mENCOUNTER_ID\u001b[39m\u001b[33m'\u001b[39m, how=\u001b[33m'\u001b[39m\u001b[33mleft\u001b[39m\u001b[33m'\u001b[39m)\n\u001b[32m---> \u001b[39m\u001b[32m21\u001b[39m fulldf = \u001b[43mfulldf\u001b[49m\u001b[43m[\u001b[49m\u001b[43mcolumns\u001b[49m\u001b[43m]\u001b[49m\n\u001b[32m     23\u001b[39m fulldf.to_csv(\u001b[33m\"\u001b[39m\u001b[33m/Users/psulin/repos/genai-workshop-READY2025/data/1000_patients_encounters/patient_encounters1_notes2.csv\u001b[39m\u001b[33m\"\u001b[39m,index=\u001b[38;5;28;01mFalse\u001b[39;00m)\n",
      "\u001b[36mFile \u001b[39m\u001b[32m~/.pyenv/versions/3.12.4/envs/genai_workshop/lib/python3.12/site-packages/pandas/core/frame.py:4108\u001b[39m, in \u001b[36mDataFrame.__getitem__\u001b[39m\u001b[34m(self, key)\u001b[39m\n\u001b[32m   4106\u001b[39m     \u001b[38;5;28;01mif\u001b[39;00m is_iterator(key):\n\u001b[32m   4107\u001b[39m         key = \u001b[38;5;28mlist\u001b[39m(key)\n\u001b[32m-> \u001b[39m\u001b[32m4108\u001b[39m     indexer = \u001b[38;5;28;43mself\u001b[39;49m\u001b[43m.\u001b[49m\u001b[43mcolumns\u001b[49m\u001b[43m.\u001b[49m\u001b[43m_get_indexer_strict\u001b[49m\u001b[43m(\u001b[49m\u001b[43mkey\u001b[49m\u001b[43m,\u001b[49m\u001b[43m \u001b[49m\u001b[33;43m\"\u001b[39;49m\u001b[33;43mcolumns\u001b[39;49m\u001b[33;43m\"\u001b[39;49m\u001b[43m)\u001b[49m[\u001b[32m1\u001b[39m]\n\u001b[32m   4110\u001b[39m \u001b[38;5;66;03m# take() does not accept boolean indexers\u001b[39;00m\n\u001b[32m   4111\u001b[39m \u001b[38;5;28;01mif\u001b[39;00m \u001b[38;5;28mgetattr\u001b[39m(indexer, \u001b[33m\"\u001b[39m\u001b[33mdtype\u001b[39m\u001b[33m\"\u001b[39m, \u001b[38;5;28;01mNone\u001b[39;00m) == \u001b[38;5;28mbool\u001b[39m:\n",
      "\u001b[36mFile \u001b[39m\u001b[32m~/.pyenv/versions/3.12.4/envs/genai_workshop/lib/python3.12/site-packages/pandas/core/indexes/base.py:6200\u001b[39m, in \u001b[36mIndex._get_indexer_strict\u001b[39m\u001b[34m(self, key, axis_name)\u001b[39m\n\u001b[32m   6197\u001b[39m \u001b[38;5;28;01melse\u001b[39;00m:\n\u001b[32m   6198\u001b[39m     keyarr, indexer, new_indexer = \u001b[38;5;28mself\u001b[39m._reindex_non_unique(keyarr)\n\u001b[32m-> \u001b[39m\u001b[32m6200\u001b[39m \u001b[38;5;28;43mself\u001b[39;49m\u001b[43m.\u001b[49m\u001b[43m_raise_if_missing\u001b[49m\u001b[43m(\u001b[49m\u001b[43mkeyarr\u001b[49m\u001b[43m,\u001b[49m\u001b[43m \u001b[49m\u001b[43mindexer\u001b[49m\u001b[43m,\u001b[49m\u001b[43m \u001b[49m\u001b[43maxis_name\u001b[49m\u001b[43m)\u001b[49m\n\u001b[32m   6202\u001b[39m keyarr = \u001b[38;5;28mself\u001b[39m.take(indexer)\n\u001b[32m   6203\u001b[39m \u001b[38;5;28;01mif\u001b[39;00m \u001b[38;5;28misinstance\u001b[39m(key, Index):\n\u001b[32m   6204\u001b[39m     \u001b[38;5;66;03m# GH 42790 - Preserve name from an Index\u001b[39;00m\n",
      "\u001b[36mFile \u001b[39m\u001b[32m~/.pyenv/versions/3.12.4/envs/genai_workshop/lib/python3.12/site-packages/pandas/core/indexes/base.py:6252\u001b[39m, in \u001b[36mIndex._raise_if_missing\u001b[39m\u001b[34m(self, key, indexer, axis_name)\u001b[39m\n\u001b[32m   6249\u001b[39m     \u001b[38;5;28;01mraise\u001b[39;00m \u001b[38;5;167;01mKeyError\u001b[39;00m(\u001b[33mf\u001b[39m\u001b[33m\"\u001b[39m\u001b[33mNone of [\u001b[39m\u001b[38;5;132;01m{\u001b[39;00mkey\u001b[38;5;132;01m}\u001b[39;00m\u001b[33m] are in the [\u001b[39m\u001b[38;5;132;01m{\u001b[39;00maxis_name\u001b[38;5;132;01m}\u001b[39;00m\u001b[33m]\u001b[39m\u001b[33m\"\u001b[39m)\n\u001b[32m   6251\u001b[39m not_found = \u001b[38;5;28mlist\u001b[39m(ensure_index(key)[missing_mask.nonzero()[\u001b[32m0\u001b[39m]].unique())\n\u001b[32m-> \u001b[39m\u001b[32m6252\u001b[39m \u001b[38;5;28;01mraise\u001b[39;00m \u001b[38;5;167;01mKeyError\u001b[39;00m(\u001b[33mf\u001b[39m\u001b[33m\"\u001b[39m\u001b[38;5;132;01m{\u001b[39;00mnot_found\u001b[38;5;132;01m}\u001b[39;00m\u001b[33m not in index\u001b[39m\u001b[33m\"\u001b[39m)\n",
      "\u001b[31mKeyError\u001b[39m: \"['PATIENT_ID'] not in index\""
     ]
    }
   ],
   "source": [
    "import pandas as pd \n",
    "path = \"/Users/psulin/repos/genai-workshop-READY2025/data/1000_patients_encounters/patient_encounters1.csv\"\n",
    "full_encounter = pd.read_csv(path)\n",
    "\n",
    "columns = full_encounter.columns.tolist()\n",
    "columns.append('CLINICAL_NOTES')\n",
    " \n",
    "path_notes = \"/Users/psulin/repos/genai-workshop-READY2025/data/encounters/all_encounters_filtered.csv\"\n",
    "path_notes2 = \"/Users/psulin/repos/genai-workshop-READY2025/data/encounters/all_encounters34.csv\"\n",
    "\n",
    "df_notes = pd.read_csv(path_notes)\n",
    "df_notes = df_notes[['PATIENT_ID', 'ENCOUNTER_ID', 'CLINICAL_NOTES']]\n",
    "df_notes.info()\n",
    "\n",
    "df_notes2 = pd.read_csv(path_notes2)\n",
    "df_notes2.info()\n",
    "\n",
    "df_notes_concat = pd.concat([df_notes, df_notes2])\n",
    "\n",
    "fulldf = pd.merge(df_notes_concat, full_encounter, left_on='ENCOUNTER_ID', right_on='ENCOUNTER_ID', how='left')\n",
    "fulldf = fulldf[columns]\n",
    "\n",
    "fulldf.to_csv(\"/Users/psulin/repos/genai-workshop-READY2025/data/1000_patients_encounters/patient_encounters1_notes2.csv\",index=False)\n",
    "\n",
    "\n",
    "\n"
   ]
  }
 ],
 "metadata": {
  "kernelspec": {
   "display_name": "genai_workshop",
   "language": "python",
   "name": "python3"
  },
  "language_info": {
   "codemirror_mode": {
    "name": "ipython",
    "version": 3
   },
   "file_extension": ".py",
   "mimetype": "text/x-python",
   "name": "python",
   "nbconvert_exporter": "python",
   "pygments_lexer": "ipython3",
   "version": "3.12.4"
  }
 },
 "nbformat": 4,
 "nbformat_minor": 5
}
