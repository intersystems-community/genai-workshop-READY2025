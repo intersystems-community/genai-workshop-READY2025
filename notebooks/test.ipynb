{
 "cells": [
  {
   "cell_type": "code",
   "execution_count": null,
   "id": "a61b3255",
   "metadata": {},
   "outputs": [],
   "source": [
    "import pandas as pd\n",
    "\n",
    "path = '/Users/psulin/repos/genai-workshop-READY2025/data/1000_patients_encounters/patient_encounters.csv'\n",
    "df = pd.read_csv(path)\n",
    "\n",
    "encounter_with_meds = df[(df['DESCRIPTION_MEDICATIONS'].isnull() == False) & (df['DESCRIPTION_PROCEDURES'].isnull() == False)]\n",
    "\n",
    "print(len(encounter_with_meds), len(df))\n",
    "\n",
    "df['DESCRIPTION_MEDICATIONS'].info()\n",
    "encounter_with_meds[['DESCRIPTION_MEDICATIONS', 'DESCRIPTION_PROCEDURES', 'DESCRIPTION_CONDITIONS', 'DESCRIPTION_OBSERVATIONS']].head(50)\n",
    "print(len(encounter_with_meds['PATIENT_ID'].unique()))"
   ]
  },
  {
   "cell_type": "code",
   "execution_count": null,
   "id": "b9a5ee8d",
   "metadata": {},
   "outputs": [],
   "source": [
    "import pandas as pd \n",
    "path = '/Users/psulin/repos/genai-workshop-READY2025/data/1000_patients_encounters/patient_encounters1.csv'\n",
    "df = pd.read_csv(path)\n",
    "\n",
    "#encounter_with_meds = df[(df['DESCRIPTION_MEDICATIONS'].isnull() == False) & (df['DESCRIPTION_PROCEDURES'].isnull() == False)]\n",
    "\n",
    "encounter_with_meds = df[df[['DESCRIPTION_MEDICATIONS', 'DESCRIPTION_PROCEDURES']].notna().all(axis=1)]\n",
    "\n",
    "fields = ['ENCOUNTER_ID', 'PATIENT_ID', 'PATIENT_AGE', 'DESCRIPTION_MEDICATIONS', 'DESCRIPTION_PROCEDURES', 'DESCRIPTION_CONDITIONS', 'TOTAL_CLAIM_COST' ]\n",
    "\n",
    "core_df = encounter_with_meds[fields]\n",
    "patients = core_df['PATIENT_ID'].unique() #['DESCRIPTION_MEDICATIONS'].value_counts()\n",
    "counter = 0\n",
    "for p in patients:\n",
    "    mask = core_df['PATIENT_ID'] == p\n",
    "    patient_x = core_df[mask][:10]\n",
    "    patient_string = patient_x.to_csv(index=False)\n",
    "    #print(patient_x[['PATIENT_ID','ENCOUNTER_ID']])\n",
    "    print(patient_string)\n",
    "    counter += 1\n",
    "    if counter > 10: break\n",
    "    \n",
    "\n"
   ]
  },
  {
   "cell_type": "code",
   "execution_count": 26,
   "id": "fab69b48",
   "metadata": {},
   "outputs": [],
   "source": [
    "import pandas as pd \n",
    "path_notes = \"/Users/psulin/repos/genai-workshop-READY2025/data/encounters/all_encounters_filtered.csv\"\n",
    "df_notes = pd.read_csv(path_notes, index_col='ENCOUNTER_ID', sep=',')\n"
   ]
  },
  {
   "cell_type": "code",
   "execution_count": null,
   "id": "88eee29b",
   "metadata": {},
   "outputs": [
    {
     "name": "stdout",
     "output_type": "stream",
     "text": [
      "<class 'pandas.core.frame.DataFrame'>\n",
      "Index: 10969 entries, 0 to 9222\n",
      "Data columns (total 3 columns):\n",
      " #   Column          Non-Null Count  Dtype \n",
      "---  ------          --------------  ----- \n",
      " 0   PATIENT_ID      10969 non-null  int64 \n",
      " 1   ENCOUNTER_ID    10969 non-null  object\n",
      " 2   CLINICAL_NOTES  10961 non-null  object\n",
      "dtypes: int64(1), object(2)\n",
      "memory usage: 342.8+ KB\n"
     ]
    }
   ],
   "source": [
    "import pandas as pd \n",
    "path = \"/Users/psulin/repos/genai-workshop-READY2025/data/1000_patients_encounters/patient_encounters1.csv\"\n",
    "full_encounter = pd.read_csv(path)\n",
    "\n",
    "columns = full_encounter.columns.tolist()\n",
    "columns.append('CLINICAL_NOTES')\n",
    " \n",
    "path_notes = \"/Users/psulin/repos/genai-workshop-READY2025/data/encounters/all_encounters_filtered.csv\"\n",
    "path_notes2 = \"/Users/psulin/repos/genai-workshop-READY2025/data/encounters/all_encounters34.csv\"\n",
    "\n",
    "df_notes = pd.read_csv(path_notes)\n",
    "df_notes = df_notes[['PATIENT_ID', 'ENCOUNTER_ID', 'CLINICAL_NOTES']]\n",
    "\n",
    "df_notes2 = pd.read_csv(path_notes2)\n",
    "\n",
    "df_notes_concat = pd.concat([df_notes, df_notes2])\n",
    "\n",
    "fulldf = pd.merge(df_notes_concat, full_encounter, left_on='ENCOUNTER_ID', right_on='ENCOUNTER_ID', how='left')\n",
    "fulldf = fulldf[columns]\n",
    "\n",
    "fulldf.to_csv(\"/Users/psulin/repos/genai-workshop-READY2025/data/1000_patients_encounters/patient_encounters1_notes2.csv\",index=False)\n",
    "\n",
    "\n",
    "\n"
   ]
  }
 ],
 "metadata": {
  "kernelspec": {
   "display_name": "genai_workshop",
   "language": "python",
   "name": "python3"
  },
  "language_info": {
   "codemirror_mode": {
    "name": "ipython",
    "version": 3
   },
   "file_extension": ".py",
   "mimetype": "text/x-python",
   "name": "python",
   "nbconvert_exporter": "python",
   "pygments_lexer": "ipython3",
   "version": "3.12.4"
  }
 },
 "nbformat": 4,
 "nbformat_minor": 5
}
