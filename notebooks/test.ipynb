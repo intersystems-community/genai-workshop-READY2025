{
 "cells": [
  {
   "cell_type": "code",
   "execution_count": null,
   "id": "a61b3255",
   "metadata": {},
   "outputs": [
    {
     "name": "stdout",
     "output_type": "stream",
     "text": [
      "35115 81482\n",
      "<class 'pandas.core.series.Series'>\n",
      "RangeIndex: 81482 entries, 0 to 81481\n",
      "Series name: DESCRIPTION_MEDICATIONS\n",
      "Non-Null Count  Dtype \n",
      "--------------  ----- \n",
      "40619 non-null  object\n",
      "dtypes: object(1)\n",
      "memory usage: 636.7+ KB\n",
      "1078\n"
     ]
    }
   ],
   "source": [
    "import pandas as pd\n",
    "\n",
    "path = '/Users/psulin/repos/genai-workshop-READY2025/data/1000_patients_encounters/patient_encounters.csv'\n",
    "df = pd.read_csv(path)\n",
    "\n",
    "encounter_with_meds = df[(df['DESCRIPTION_MEDICATIONS'].isnull() == False) & (df['DESCRIPTION_PROCEDURES'].isnull() == False)]\n",
    "\n",
    "print(len(encounter_with_meds), len(df))\n",
    "\n",
    "df['DESCRIPTION_MEDICATIONS'].info()\n",
    "encounter_with_meds[['DESCRIPTION_MEDICATIONS', 'DESCRIPTION_PROCEDURES', 'DESCRIPTION_CONDITIONS', 'DESCRIPTION_OBSERVATIONS']].head(50)\n",
    "print(len(encounter_with_meds['PATIENT_ID'].unique()))"
   ]
  },
  {
   "cell_type": "code",
   "execution_count": 8,
   "id": "b9a5ee8d",
   "metadata": {},
   "outputs": [
    {
     "name": "stdout",
     "output_type": "stream",
     "text": [
      "ENCOUNTERCLASS\n",
      "ambulatory    48753\n",
      "wellness      14280\n",
      "outpatient    10251\n",
      "urgentcare     3930\n",
      "emergency      2533\n",
      "inpatient       997\n",
      "home            265\n",
      "hospice         165\n",
      "snf             156\n",
      "virtual         152\n",
      "Name: count, dtype: int64\n"
     ]
    }
   ],
   "source": [
    "import pandas as pd \n",
    "path = '/Users/psulin/repos/genai-workshop-READY2025/data/1000_patients_encounters/encounters.csv'\n",
    "df = pd.read_csv(path)\n",
    "\n",
    "print(df['ENCOUNTERCLASS'].value_counts())\n",
    "\n"
   ]
  }
 ],
 "metadata": {
  "kernelspec": {
   "display_name": "genai_workshop",
   "language": "python",
   "name": "python3"
  },
  "language_info": {
   "codemirror_mode": {
    "name": "ipython",
    "version": 3
   },
   "file_extension": ".py",
   "mimetype": "text/x-python",
   "name": "python",
   "nbconvert_exporter": "python",
   "pygments_lexer": "ipython3",
   "version": "3.12.4"
  }
 },
 "nbformat": 4,
 "nbformat_minor": 5
}
