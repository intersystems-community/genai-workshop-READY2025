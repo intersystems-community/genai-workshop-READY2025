{
 "cells": [
  {
   "cell_type": "markdown",
   "id": "ddfade1b",
   "metadata": {},
   "source": [
    "## Test First Approach for GenAI Apps\n",
    "\n",
    "### Overview\n",
    "\n",
    "Both unit testing and integration testing are important for ensuring the quality and reliability of software applications. With GenAI applications, testing is even more critical and it is best to think about testing from the start of the development process. These factors make it critical to use a test-first approach when developing GenAI applications.\n",
    "\n",
    "1. Responses from LLMs are not deterministic. With some models, you can set parameters to try and force deterministic responses or using caching, but since the input query is essentially infinite, the problem still remains.\n",
    "2. Models are changing rapidly, so in order to control costs(older models are often much more expensive), performance, accuracy, and provide redundancy testing on different models is required.\n",
    "3. Developing quality tests can be time consuming and is often best done in an iterative way during development. The most high quality tests require human annotation or scoring.\n",
    "4. The ability to test and optimize subcomponents of the application is often critical for the success of the application.\n",
    "    a. In a RAG application, testing the retrieval component separate from the generation component is often critical for the success of the application.\n",
    "    b. In an application that is converting a user query into a function call might require two steps: determining the function and extracting the arguments and requesting arguments that have not been provided. Optimizing these steps separately can make each problem much simpler.\n",
    "5. Ground truth is the simplest form of testing.\n"
   ]
  }
 ],
 "metadata": {
  "language_info": {
   "name": "python"
  }
 },
 "nbformat": 4,
 "nbformat_minor": 5
}
