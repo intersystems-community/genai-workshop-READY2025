{
 "cells": [
  {
   "cell_type": "markdown",
   "id": "682b0195",
   "metadata": {},
   "source": [
    "## Using InterSystems IRIS Vector Search"
   ]
  },
  {
   "cell_type": "markdown",
   "id": "3202ca8a",
   "metadata": {},
   "source": [
    "### InterSystems IRIS Vector Search: An Overview\n",
    "InterSystems IRIS Vector Search brings powerful AI and machine learning capabilities directly into your SQL workflows by enabling the storage and querying of high-dimensional vector embeddings within a relational database. Vector search works by comparing embedding vectors—numerical representations of unstructured data like text—to determine semantic similarity, making it ideal for tasks like intelligent search and information retrieval. With InterSystems IRIS, you can store these embeddings using the optimized VECTOR and EMBEDDING data types. The EMBEDDING type streamlines the process by converting text into vectors directly through SQL, without requiring direct interaction with an embedding model. By integrating these capabilities into standard SQL operations, IRIS transforms your relational database into a high-performance hybrid vector database—ready to support next-generation AI applications.\n",
    "\n",
    "Watch the video below to get an overview of how vector search can power generative AI applications in InterSystems IRIS."
   ]
  },
  {
   "cell_type": "markdown",
   "id": "ac93d2d3",
   "metadata": {},
   "source": [
    "<iframe width=\"560\" height=\"315\" src=\"https://www.youtube.com/embed/-4SAkjqCpCI?si=_5x94XRFQvnok_U8\" title=\"YouTube video player\" frameborder=\"0\" allow=\"accelerometer; autoplay; clipboard-write; encrypted-media; gyroscope; picture-in-picture; web-share\" referrerpolicy=\"strict-origin-when-cross-origin\" allowfullscreen></iframe>"
   ]
  },
  {
   "cell_type": "markdown",
   "id": "703872a5",
   "metadata": {},
   "source": [
    "### Running a Simple Vector Search\n",
    "In the respository for this workshop, there is a set of medical data that will be used for experimentation. The data set includes ~1,500 patient encounters, each with structured and coded medical data. With each encounter, however, is also a generated clinical summary note that provides more context about the patient. This might include things such as their commuting situation, their mood during the encounter, or other information not easily categorized into a structured encounter record.\n",
    "\n",
    "Run the block of code below to initiate a connection to InterSystems IRIS and view a snippet of this data set."
   ]
  },
  {
   "cell_type": "code",
   "execution_count": null,
   "id": "7b612b20",
   "metadata": {},
   "outputs": [],
   "source": [
    "import os, pandas as pd\n",
    "from sentence_transformers import SentenceTransformer\n",
    "from sqlalchemy import create_engine, text\n",
    "\n",
    "from dotenv import load_dotenv\n",
    "load_dotenv(override=True)\n",
    "\n",
    "username = 'SuperUser'\n",
    "password = 'SYS'\n",
    "hostname = 'localhost'\n",
    "port = 1972\n",
    "namespace = 'IRISAPP'\n",
    "CONNECTION_STRING = f\"iris://{username}:{password}@{hostname}:{port}/{namespace}\"\n",
    "engine = create_engine(CONNECTION_STRING)\n",
    "\n",
    "df = pd.read_sql(\"SELECT * FROM GenAI.encounters\", engine)\n",
    "df.head()"
   ]
  },
  {
   "cell_type": "markdown",
   "id": "16017fd7",
   "metadata": {},
   "source": [
    "Notice that in addition to structured data—such as codes, costs, and standardized descriptions of the encounters—there are also columns with unstructured observations and notes, and accompanying vector embeddings. These vector embeddings will help a generative AI application retrieve relevant chunks of data from this set of patient encounters.\n",
    "\n",
    "Let's try running a vector search. First, run the following line of code to select the sentence transformer model that will be used to create an embedding from your search term. The embedding model you use to embed your search queries should be compatible with the model used to create embeddings in your data set."
   ]
  },
  {
   "cell_type": "code",
   "execution_count": null,
   "id": "01d6d3af",
   "metadata": {},
   "outputs": [],
   "source": [
    "model = SentenceTransformer('sentence-transformers/all-MiniLM-L6-v2')"
   ]
  },
  {
   "cell_type": "markdown",
   "id": "01801dba",
   "metadata": {},
   "source": [
    "Run the next module, optionally replacing \"Headache\" with a search term of your choice. This module will create and print an embedding for the search term you have entered."
   ]
  },
  {
   "cell_type": "code",
   "execution_count": null,
   "id": "50f746e8",
   "metadata": {},
   "outputs": [],
   "source": [
    "note_search = \"Tylenol usage\"\n",
    "search_vector = model.encode(note_search, normalize_embeddings=True).tolist() # Convert search phrase into a vector\n",
    "print(search_vector)"
   ]
  },
  {
   "cell_type": "markdown",
   "id": "8c81acfe",
   "metadata": {},
   "source": [
    "Now let's run a vector search against our CLINICAL_NOTES field using your search term. With the code below, you will retrieve the top three chunks from the CLINICAL_NOTES field in your data set that are deemed most similar to the search term you provided. The results will be displayed in a Pandas DataFrame for easy viewing."
   ]
  },
  {
   "cell_type": "code",
   "execution_count": null,
   "id": "48c76093",
   "metadata": {},
   "outputs": [],
   "source": [
    "from sqlalchemy import text\n",
    "\n",
    "vector_str = \",\".join(str(x) for x in search_vector)\n",
    "print(vector_str)\n",
    "\n",
    "with engine.connect() as conn:\n",
    "    with conn.begin():\n",
    "        sql = text(\"\"\"\n",
    "            SELECT TOP 10 ENCOUNTER_ID, CLINICAL_NOTES\n",
    "            FROM GenAI.encounters\n",
    "            ORDER BY VECTOR_DOT_PRODUCT(CLINICAL_NOTES_Vector, TO_VECTOR(:search_vector)) DESC\n",
    "        \"\"\")\n",
    "        results = conn.execute(sql, {\"search_vector\": vector_str}).fetchall()\n",
    "\n",
    "# Display results\n",
    "df = pd.DataFrame(results)\n",
    "pd.set_option(\"display.max_colwidth\", None)\n",
    "df.head(10)"
   ]
  },
  {
   "cell_type": "markdown",
   "id": "f64968f8",
   "metadata": {},
   "source": [
    "### Searching across multiple vectorized fields\n",
    "Let's now consider that you may want to search across more than just your CLINICAL_NOTES field. In the block below, you will notice that similarities are being calculated between your search term and all five vectorized fields in the data set. Then, the results are being ordered by the greatest similarity match.\n",
    "\n",
    "In the result set that follows, explore the similarity scores provided. Sometimes one field provides a particularly good match, while others do not.\n",
    "\n",
    "Enter whatever search term you would like in the note_search variable. Feel free to play around with multiple searches."
   ]
  },
  {
   "cell_type": "code",
   "execution_count": null,
   "id": "cbc1549e",
   "metadata": {},
   "outputs": [],
   "source": [
    "note_search = \"Pregnancy complications\"\n",
    "search_vector = model.encode(note_search, normalize_embeddings=True).tolist() # Convert search phrase into a vector\n",
    "print(search_vector)\n",
    "\n",
    "vector_str = \",\".join(str(x) for x in search_vector) \n",
    "\n",
    "with engine.connect() as conn:\n",
    "    with conn.begin():\n",
    "        sql = text(\"\"\"\n",
    "            SELECT TOP 5\n",
    "                ENCOUNTER_ID,\n",
    "                CLINICAL_NOTES,\n",
    "                DESCRIPTION_OBSERVATIONS,\n",
    "                DESCRIPTION_CONDITIONS,\n",
    "                DESCRIPTION_PROCEDURES,\n",
    "                DESCRIPTION_MEDICATIONS,\n",
    "                VECTOR_DOT_PRODUCT(CLINICAL_NOTES_Vector, TO_VECTOR(:search_vector))\n",
    "                    AS sim_notes,\n",
    "                VECTOR_DOT_PRODUCT(DESCRIPTION_OBSERVATIONS_Vector, TO_VECTOR(:search_vector))\n",
    "                    AS sim_obs,\n",
    "                VECTOR_DOT_PRODUCT(DESCRIPTION_CONDITIONS_Vector,   TO_VECTOR(:search_vector))\n",
    "                    AS sim_cond,\n",
    "                VECTOR_DOT_PRODUCT(DESCRIPTION_PROCEDURES_Vector,   TO_VECTOR(:search_vector))\n",
    "                    AS sim_proc,\n",
    "                VECTOR_DOT_PRODUCT(DESCRIPTION_MEDICATIONS_Vector,  TO_VECTOR(:search_vector))\n",
    "                    AS sim_med\n",
    "            FROM GenAI.encounters\n",
    "            ORDER BY GREATEST(\n",
    "                VECTOR_DOT_PRODUCT(CLINICAL_NOTES_Vector,           TO_VECTOR(:search_vector)),\n",
    "                VECTOR_DOT_PRODUCT(DESCRIPTION_OBSERVATIONS_Vector, TO_VECTOR(:search_vector)),\n",
    "                VECTOR_DOT_PRODUCT(DESCRIPTION_CONDITIONS_Vector,   TO_VECTOR(:search_vector)),\n",
    "                VECTOR_DOT_PRODUCT(DESCRIPTION_PROCEDURES_Vector,   TO_VECTOR(:search_vector)),\n",
    "                VECTOR_DOT_PRODUCT(DESCRIPTION_MEDICATIONS_Vector,  TO_VECTOR(:search_vector))\n",
    ") DESC\n",
    "\n",
    "        \"\"\")\n",
    "        results = conn.execute(sql, {\"search_vector\": vector_str}).fetchall()\n",
    "df = pd.DataFrame(results, columns=[\n",
    "    \"ENCOUNTER_ID\",\n",
    "    \"CLINICAL_NOTES\", \"DESCRIPTION_OBSERVATIONS\", \"DESCRIPTION_CONDITIONS\",\n",
    "    \"DESCRIPTION_PROCEDURES\", \"DESCRIPTION_MEDICATIONS\",\n",
    "    \"sim_notes\",\n",
    "    \"sim_obs\",\n",
    "    \"sim_cond\",\n",
    "    \"sim_proc\",\n",
    "    \"sim_med\"\n",
    "])\n",
    "df[\"DESCRIPTION_OBSERVATIONS\"] = df[\"DESCRIPTION_OBSERVATIONS\"].str[:250]\n",
    "df.head(5)\n"
   ]
  },
  {
   "cell_type": "markdown",
   "id": "fdcac455",
   "metadata": {},
   "source": [
    "### Summary\n",
    "Feel free to continue playing around with simple vector searches. When you are finished with this notebook, return to the workshop exercise document and proceed to task 2.3."
   ]
  },
  {
   "cell_type": "markdown",
   "id": "a44df0a9",
   "metadata": {},
   "source": []
  }
 ],
 "metadata": {
  "kernelspec": {
   "display_name": "Python 3",
   "language": "python",
   "name": "python3"
  },
  "language_info": {
   "codemirror_mode": {
    "name": "ipython",
    "version": 3
   },
   "file_extension": ".py",
   "mimetype": "text/x-python",
   "name": "python",
   "nbconvert_exporter": "python",
   "pygments_lexer": "ipython3",
   "version": "3.12.2"
  }
 },
 "nbformat": 4,
 "nbformat_minor": 5
}
