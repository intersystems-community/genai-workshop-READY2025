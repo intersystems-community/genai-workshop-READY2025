{
 "cells": [
  {
   "cell_type": "markdown",
   "id": "682b0195",
   "metadata": {},
   "source": [
    "## Using InterSystems IRIS Vector Search"
   ]
  },
  {
   "cell_type": "markdown",
   "id": "3202ca8a",
   "metadata": {},
   "source": [
    "### InterSystems IRIS Vector Search: An Overview\n",
    "InterSystems IRIS Vector Search brings powerful AI and machine learning capabilities directly into your SQL workflows by enabling the storage and querying of high-dimensional vector embeddings within a relational database. Vector search works by comparing embedding vectors—numerical representations of unstructured data like text—to determine semantic similarity, making it ideal for tasks like intelligent search and information retrieval. With InterSystems IRIS, you can store these embeddings using the optimized VECTOR and EMBEDDING data types. The EMBEDDING type streamlines the process by converting text into vectors directly through SQL, without requiring direct interaction with an embedding model. By integrating these capabilities into standard SQL operations, IRIS transforms your relational database into a high-performance hybrid vector database—ready to support next-generation AI applications.\n",
    "\n",
    "Watch the video below to get an overview of how vector search can power generative AI applications in InterSystems IRIS."
   ]
  },
  {
   "cell_type": "markdown",
   "id": "ac93d2d3",
   "metadata": {},
   "source": [
    "<iframe width=\"560\" height=\"315\" src=\"https://www.youtube.com/embed/-4SAkjqCpCI?si=_5x94XRFQvnok_U8\" title=\"YouTube video player\" frameborder=\"0\" allow=\"accelerometer; autoplay; clipboard-write; encrypted-media; gyroscope; picture-in-picture; web-share\" referrerpolicy=\"strict-origin-when-cross-origin\" allowfullscreen></iframe>"
   ]
  },
  {
   "cell_type": "markdown",
   "id": "703872a5",
   "metadata": {},
   "source": [
    "### Running a Simple Vector Search\n",
    "In the respository for this workshop, there is a set of medical data that will be used for experimentation. The data set includes 80,000 patient encounters, each with structured and coded medical data. With each encounter, however, is also a generated clinical summary note that provides more context about the patient. This might include things such as their commuting situation, their mood during the encounter, or other information not easily categorized into a structured encounter record.\n",
    "\n",
    "Run the block of code below to initiate a simple connection to InterSystems IRIS and view a snippet of this data set."
   ]
  },
  {
   "cell_type": "code",
   "execution_count": null,
   "id": "7b612b20",
   "metadata": {},
   "outputs": [],
   "source": [
    "import os, pandas as pd\n",
    "from sentence_transformers import SentenceTransformer\n",
    "from sqlalchemy import create_engine, text\n",
    "\n",
    "from dotenv import load_dotenv\n",
    "load_dotenv(override=True)\n",
    "\n",
    "username = 'SuperUser'\n",
    "password = 'SYS'\n",
    "hostname = 'localhost'\n",
    "port = 1972\n",
    "namespace = 'IRISAPP'\n",
    "CONNECTION_STRING = f\"iris://{username}:{password}@{hostname}:{port}/{namespace}\"\n",
    "engine = create_engine(CONNECTION_STRING)\n",
    "\n",
    "df = pd.read_sql(\"SELECT * FROM GenAI.encounters_vectorized\", engine)\n",
    "df.head()"
   ]
  },
  {
   "cell_type": "markdown",
   "id": "16017fd7",
   "metadata": {},
   "source": []
  },
  {
   "cell_type": "code",
   "execution_count": null,
   "id": "01d6d3af",
   "metadata": {},
   "outputs": [],
   "source": [
    "model = SentenceTransformer('sentence-transformers/all-MiniLM-L6-v2')"
   ]
  },
  {
   "cell_type": "code",
   "execution_count": null,
   "id": "50f746e8",
   "metadata": {},
   "outputs": [],
   "source": [
    "note_search = \"Headache\"\n",
    "search_vector = model.encode(note_search, normalize_embeddings=True).tolist() # Convert search phrase into a vector\n",
    "print(search_vector)"
   ]
  },
  {
   "cell_type": "code",
   "execution_count": null,
   "id": "48c76093",
   "metadata": {},
   "outputs": [],
   "source": [
    "from sqlalchemy import text\n",
    "\n",
    "vector_str = \",\".join(str(x) for x in search_vector) \n",
    "\n",
    "with engine.connect() as conn:\n",
    "    with conn.begin():\n",
    "        sql = text(\"\"\"\n",
    "            SELECT TOP 3 * \n",
    "            FROM GenAI.encounters_vectorized\n",
    "            ORDER BY VECTOR_DOT_PRODUCT(DESCRIPTION_OBSERVATIONS_Vector, TO_VECTOR(:search_vector)) DESC\n",
    "        \"\"\")\n",
    "        results = conn.execute(sql, {\"search_vector\": vector_str}).fetchall()\n",
    "\n",
    "# Display results\n",
    "df = pd.DataFrame(results)\n",
    "df.head()"
   ]
  },
  {
   "cell_type": "code",
   "execution_count": null,
   "id": "0aa4e406",
   "metadata": {},
   "outputs": [],
   "source": []
  }
 ],
 "metadata": {
  "kernelspec": {
   "display_name": "Python 3",
   "language": "python",
   "name": "python3"
  },
  "language_info": {
   "codemirror_mode": {
    "name": "ipython",
    "version": 3
   },
   "file_extension": ".py",
   "mimetype": "text/x-python",
   "name": "python",
   "nbconvert_exporter": "python",
   "pygments_lexer": "ipython3",
   "version": "3.12.2"
  }
 },
 "nbformat": 4,
 "nbformat_minor": 5
}
