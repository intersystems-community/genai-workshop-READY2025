{
 "cells": [
  {
   "cell_type": "code",
   "execution_count": null,
   "id": "84ffca8b",
   "metadata": {},
   "outputs": [],
   "source": [
    "import os\n",
    "\n",
    "os.environ['STREAMLIT_GENERAL_EMAIL'] = \"\"\n",
    "os.environ['STREAMLIT_THEME_PRIMARYCOLOR'] = \"#5863ff\"\n",
    "\n",
    "%pip install --upgrade \\\n",
    "    streamlit \\\n",
    "    langchain \\\n",
    "    langchain-community \\\n",
    "    urlextract \\\n",
    "    intersystems-iris-python"
   ]
  },
  {
   "cell_type": "code",
   "execution_count": null,
   "id": "d0133945",
   "metadata": {
    "vscode": {
     "languageId": "shellscript"
    }
   },
   "outputs": [],
   "source": [
    "%%bash\n",
    "# If you're using a container, mac, or linux machine --- run this cell\n",
    "streamlit run 'chat.py' --server.port 8080"
   ]
  },
  {
   "cell_type": "code",
   "execution_count": 1,
   "id": "c6e237b9",
   "metadata": {},
   "outputs": [
    {
     "name": "stdout",
     "output_type": "stream",
     "text": [
      "INSERT INTO %Embedding.Config (Name, Configuration, EmbeddingClass, Description)\n",
      "VALUES ('sentence-transformers/all-MiniLM-L6-v2',\n",
      "        '{\"modelName\": \"sentence-transformers/all-MiniLM-L6-v2\", \"hfCachePath\": \"/home/irisowner/dev\", \"checkTokenCount\": false}',\n",
      "        '%Embedding.SentenceTransformers',\n",
      "        'a small SentenceTransformers embedding model')\n"
     ]
    }
   ],
   "source": [
    "import json\n",
    "embed_config_table = '%Embedding.Config' \n",
    "\n",
    "model_dir = \"/home/irisowner/dev\"\n",
    "model_name = \"sentence-transformers/all-MiniLM-L6-v2\"\n",
    "\n",
    "model_config = {\"modelName\":model_name,\n",
    "            \"hfCachePath\":model_dir,\n",
    "            \"checkTokenCount\": False}\n",
    "\n",
    "stmt = f\"\"\"INSERT INTO {embed_config_table} (Name, Configuration, EmbeddingClass, Description)\n",
    "VALUES ('{model_name}',\n",
    "        '{json.dumps(model_config)}',\n",
    "        '%Embedding.SentenceTransformers',\n",
    "        'a small SentenceTransformers embedding model')\"\"\"\n",
    "\n",
    "print(stmt)"
   ]
  }
 ],
 "metadata": {
  "kernelspec": {
   "display_name": "genai_workshop",
   "language": "python",
   "name": "python3"
  },
  "language_info": {
   "codemirror_mode": {
    "name": "ipython",
    "version": 3
   },
   "file_extension": ".py",
   "mimetype": "text/x-python",
   "name": "python",
   "nbconvert_exporter": "python",
   "pygments_lexer": "ipython3",
   "version": "3.12.4"
  }
 },
 "nbformat": 4,
 "nbformat_minor": 5
}
