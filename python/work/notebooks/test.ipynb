{
 "cells": [
  {
   "cell_type": "code",
   "execution_count": 6,
   "id": "a61b3255",
   "metadata": {},
   "outputs": [
    {
     "name": "stdout",
     "output_type": "stream",
     "text": [
      "hello utils\n",
      "h3llo\n"
     ]
    }
   ],
   "source": [
    "import util\n",
    "print(\"h3llo\")"
   ]
  }
 ],
 "metadata": {
  "kernelspec": {
   "display_name": "genai_workshop",
   "language": "python",
   "name": "python3"
  },
  "language_info": {
   "codemirror_mode": {
    "name": "ipython",
    "version": 3
   },
   "file_extension": ".py",
   "mimetype": "text/x-python",
   "name": "python",
   "nbconvert_exporter": "python",
   "pygments_lexer": "ipython3",
   "version": "3.12.4"
  }
 },
 "nbformat": 4,
 "nbformat_minor": 5
}
