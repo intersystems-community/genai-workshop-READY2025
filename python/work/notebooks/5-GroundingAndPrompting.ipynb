{
 "cells": [
  {
   "cell_type": "markdown",
   "id": "6e55781b",
   "metadata": {},
   "source": [
    "## Grounded Generation & Prompt Engineering\n",
    "Explanation here"
   ]
  },
  {
   "cell_type": "code",
   "execution_count": 1,
   "id": "fea06ee5",
   "metadata": {},
   "outputs": [],
   "source": [
    "# code modules"
   ]
  },
  {
   "cell_type": "markdown",
   "id": "7d1d88b6",
   "metadata": {},
   "source": []
  }
 ],
 "metadata": {
  "kernelspec": {
   "display_name": "Python 3",
   "language": "python",
   "name": "python3"
  },
  "language_info": {
   "codemirror_mode": {
    "name": "ipython",
    "version": 3
   },
   "file_extension": ".py",
   "mimetype": "text/x-python",
   "name": "python",
   "nbconvert_exporter": "python",
   "pygments_lexer": "ipython3",
   "version": "3.12.2"
  }
 },
 "nbformat": 4,
 "nbformat_minor": 5
}
